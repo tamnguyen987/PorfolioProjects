{
 "cells": [
  {
   "cell_type": "markdown",
   "id": "d9c3ae81",
   "metadata": {},
   "source": [
    "# Building a BMI Calculator with Python"
   ]
  },
  {
   "cell_type": "code",
   "execution_count": 17,
   "id": "d7c5e513",
   "metadata": {},
   "outputs": [
    {
     "name": "stdout",
     "output_type": "stream",
     "text": [
      "Please enter your name: Tam\n",
      "Please enter your weight in pounds: 120\n",
      "Please enter your height in inches: 60\n",
      "23.433333333333334\n",
      "Tam,You are normal weight.\n"
     ]
    }
   ],
   "source": [
    "name = input(\"Please enter your name: \")\n",
    "\n",
    "weight = int(input(\"Please enter your weight in pounds: \"))\n",
    "\n",
    "height = int(input(\"Please enter your height in inches: \"))\n",
    "\n",
    "BMI = (weight * 703) / (height * height)\n",
    "\n",
    "print(BMI)\n",
    "\n",
    "if BMI > 0:\n",
    "    if BMI <= 18.5:\n",
    "        print(name + \",You are under weight.\")\n",
    "    elif BMI <= 24.9:\n",
    "        print(name + \",You are normal weight.\")\n",
    "    elif BMI <= 29.9:\n",
    "        print(name + \",You are overweight.\")\n",
    "    elif BMI <= 34.9:\n",
    "        print(name + \",You are obese.\")\n",
    "    elif BMI <= 39.9:\n",
    "        print(name + \",You are severely obese.\") \n",
    "    elif BMI >= 40:\n",
    "        print(name + \",You are over morbidly obese.\")     \n",
    "else:\n",
    "    print(\"Enter valid input.\")"
   ]
  },
  {
   "cell_type": "code",
   "execution_count": null,
   "id": "520cf235",
   "metadata": {},
   "outputs": [],
   "source": []
  },
  {
   "cell_type": "code",
   "execution_count": null,
   "id": "1431766f",
   "metadata": {},
   "outputs": [],
   "source": []
  },
  {
   "cell_type": "code",
   "execution_count": null,
   "id": "3f71423c",
   "metadata": {},
   "outputs": [],
   "source": []
  },
  {
   "cell_type": "code",
   "execution_count": null,
   "id": "a41b4ece",
   "metadata": {},
   "outputs": [],
   "source": []
  },
  {
   "cell_type": "code",
   "execution_count": null,
   "id": "6a382743",
   "metadata": {},
   "outputs": [],
   "source": [
    "#BMI = (weight * 703) / (height * height)"
   ]
  },
  {
   "cell_type": "code",
   "execution_count": null,
   "id": "f59e2a8a",
   "metadata": {},
   "outputs": [],
   "source": []
  },
  {
   "cell_type": "code",
   "execution_count": null,
   "id": "708f7c9e",
   "metadata": {},
   "outputs": [],
   "source": [
    "Under 18.5\tUnderweight\tMinimal\n",
    "18.5 - 24.9\tNormal Weight\tMinimal\n",
    "25 - 29.9\tOverweight\tIncreased\n",
    "30 - 34.9\tObese\tHigh\n",
    "35 - 39.9\tSeverely Obese\tVery High\n",
    "40 and over\tMorbidly Obese\tExtremely High"
   ]
  },
  {
   "cell_type": "code",
   "execution_count": null,
   "id": "f2abc8e7",
   "metadata": {},
   "outputs": [],
   "source": [
    "if BMI > 0:\n",
    "    if BMI <= 18.5:\n",
    "        print(name + \",You are under weight.\")\n",
    "    elif BMI <= 24.9:\n",
    "        print(name + \",You are normal weight.\")\n",
    "    elif BMI <= 29.9:\n",
    "        print(name + \",You are overweight.\")\n",
    "    elif BMI <= 34.9:\n",
    "        print(name + \",You are obese.\")\n",
    "    elif BMI <= 39.9:\n",
    "        print(name + \",You are severely obese.\") \n",
    "    elif BMI >= 40:\n",
    "        print(name + \",You are over morbidly obese.\")     \n",
    "else:\n",
    "    print(\"Enter valid input.\")\n",
    "    "
   ]
  }
 ],
 "metadata": {
  "kernelspec": {
   "display_name": "Python 3 (ipykernel)",
   "language": "python",
   "name": "python3"
  },
  "language_info": {
   "codemirror_mode": {
    "name": "ipython",
    "version": 3
   },
   "file_extension": ".py",
   "mimetype": "text/x-python",
   "name": "python",
   "nbconvert_exporter": "python",
   "pygments_lexer": "ipython3",
   "version": "3.9.13"
  }
 },
 "nbformat": 4,
 "nbformat_minor": 5
}
